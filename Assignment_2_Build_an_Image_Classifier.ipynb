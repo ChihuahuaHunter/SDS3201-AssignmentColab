{
  "cells": [
    {
      "cell_type": "markdown",
      "metadata": {
        "id": "view-in-github",
        "colab_type": "text"
      },
      "source": [
        "<a href=\"https://colab.research.google.com/github/ChihuahuaHunter/SDS3201-AssignmentColab/blob/master/Assignment_2_Build_an_Image_Classifier.ipynb\" target=\"_parent\"><img src=\"https://colab.research.google.com/assets/colab-badge.svg\" alt=\"Open In Colab\"/></a>"
      ]
    },
    {
      "cell_type": "markdown",
      "metadata": {
        "id": "_M47oZUfDT4u"
      },
      "source": [
        "**Make sure your compute resource is set to GPU else you'll need to reset your session from scratch**\n",
        "\n",
        "---\n",
        "Group yourself to 3 max, and fill in below details\n",
        "Group member detail(s): \\\n",
        "1. Mohammad Aiman Safwan Bin Abdullah - 21B6004\n",
        "2. Mohammad Nasiruddin Bin Maslan  - 19b2061\n",
        "3. Muhammad Luqman Bin A.Azamay - 19b2118\n",
        "\n",
        "Some of the concepts may be technically advanced, instead, it is to focus on learning how to effectively use Google Colab for scientific research. Don't fret if you dont understand any of codes written for you."
      ]
    },
    {
      "cell_type": "markdown",
      "metadata": {
        "id": "1Xprg08vEQqD"
      },
      "source": [
        "# Setting up Environment"
      ]
    },
    {
      "cell_type": "markdown",
      "metadata": {
        "id": "bAOS-EJzEavg"
      },
      "source": [
        "Task 1: Set Up the Environment \\\n",
        "Import the necessary libraries for the exercise, PyTorch for neural network training.\\\n",
        "Load the CIFAR10 dataset.\n"
      ]
    },
    {
      "cell_type": "code",
      "execution_count": null,
      "metadata": {
        "colab": {
          "base_uri": "https://localhost:8080/"
        },
        "id": "1qZrtDipATDh",
        "outputId": "08a2b613-3e94-42a1-eccd-e6248e7fc50a"
      },
      "outputs": [
        {
          "output_type": "stream",
          "name": "stdout",
          "text": [
            "Downloading https://www.cs.toronto.edu/~kriz/cifar-10-python.tar.gz to ./data/cifar-10-python.tar.gz\n"
          ]
        },
        {
          "output_type": "stream",
          "name": "stderr",
          "text": [
            "100%|██████████| 170498071/170498071 [00:14<00:00, 12109843.80it/s]\n"
          ]
        },
        {
          "output_type": "stream",
          "name": "stdout",
          "text": [
            "Extracting ./data/cifar-10-python.tar.gz to ./data\n",
            "Files already downloaded and verified\n"
          ]
        }
      ],
      "source": [
        "import torch\n",
        "import torch.nn as nn\n",
        "import torch.optim as optim\n",
        "import torchvision\n",
        "import torchvision.transforms as transforms\n",
        "from torch.utils.data import DataLoader\n",
        "from google.colab import files\n",
        "from PIL import Image\n",
        "# Set the random seed for reproducibility\n",
        "torch.manual_seed(42)\n",
        "\n",
        "# Define data transformation\n",
        "transform = transforms.Compose([transforms.ToTensor(), transforms.Normalize((0.5,), (0.5,))])\n",
        "# Load CIFAR10 dataset\n",
        "batch_size = 64\n",
        "\n",
        "train_dataset = torchvision.datasets.CIFAR10(root='./data', train=True,\n",
        "                                             download=True, transform=transform)\n",
        "train_loader = torch.utils.data.DataLoader(train_dataset, batch_size=batch_size,\n",
        "                                           shuffle=True, num_workers=2)\n",
        "\n",
        "test_dataset = torchvision.datasets.CIFAR10(root='./data', train=False,\n",
        "                                            download=True, transform=transform)\n",
        "test_loader = torch.utils.data.DataLoader(test_dataset, batch_size=batch_size,\n",
        "                                          shuffle=False, num_workers=2)"
      ]
    },
    {
      "cell_type": "code",
      "execution_count": null,
      "metadata": {
        "id": "J23xkfU4AVpC"
      },
      "outputs": [],
      "source": [
        "# Set the device to GPU if available, otherwise, use CPU\n",
        "device = torch.device('cuda' if torch.cuda.is_available() else 'cpu')"
      ]
    },
    {
      "cell_type": "code",
      "execution_count": null,
      "metadata": {
        "id": "u1bdybnT-Z1j"
      },
      "outputs": [],
      "source": [
        "# Define the modified neural network architecture for CIFAR-10\n",
        "import torch.nn as nn\n",
        "\n",
        "class SimpleCNN(nn.Module):\n",
        "    def __init__(self):\n",
        "        super(SimpleCNN, self).__init__()\n",
        "        self.conv1 = nn.Conv2d(3, 16, kernel_size=3, stride=1, padding=1)\n",
        "        self.relu1 = nn.ReLU()\n",
        "        self.pool1 = nn.MaxPool2d(kernel_size=2, stride=2)\n",
        "        self.conv2 = nn.Conv2d(16, 32, kernel_size=3, stride=1, padding=1)\n",
        "        self.relu2 = nn.ReLU()\n",
        "        self.pool2 = nn.MaxPool2d(kernel_size=2, stride=2)\n",
        "        self.fc1 = nn.Linear(8 * 8 * 32, 128)  # Adjusted for CIFAR-10 image size\n",
        "        self.relu3 = nn.ReLU()\n",
        "        self.fc2 = nn.Linear(128, 10)  # Output size matches the number of CIFAR-10 classes (10)\n",
        "\n",
        "    def forward(self, x):\n",
        "        x = self.conv1(x)\n",
        "        x = self.relu1(x)\n",
        "        x = self.pool1(x)\n",
        "        x = self.conv2(x)\n",
        "        x = self.relu2(x)\n",
        "        x = self.pool2(x)\n",
        "        x = x.view(-1, 8 * 8 * 32)  # Adjusted for CIFAR-10 image size\n",
        "        # x = x.view(x.size(0), -1)   # Use for own image\n",
        "        x = self.fc1(x)\n",
        "        x = self.relu3(x)\n",
        "        x = self.fc2(x)\n",
        "        return x\n",
        "model = SimpleCNN()\n"
      ]
    },
    {
      "cell_type": "markdown",
      "metadata": {
        "id": "KACp73JDFg57"
      },
      "source": [
        "Below are the Hyperparameters for the neural network (think of it as knobs that you can tune to enhance performance)\n"
      ]
    },
    {
      "cell_type": "markdown",
      "metadata": {
        "id": "lmsOBQ1kXFHA"
      },
      "source": [
        "Task 4: Model debugging (Mess around with these 3 hyperparameters) \\\n",
        "hint: \\\n",
        "LEARNING_RATE: The current value is set to 1e10 (10000000000.0). Try adjusting it to find an optimal learning rate.\\\n",
        "BATCH_SIZE: Set it to a power of 2, such as 16, 32, or 64, to potentially improve training efficiency. \\\n",
        "EPOCH: Consider letting the model train for more epochs. The default value is set to 1; experiment with longer training durations for better convergence and performance evaluation."
      ]
    },
    {
      "cell_type": "code",
      "execution_count": null,
      "metadata": {
        "id": "NDlnlmgKFhiK"
      },
      "outputs": [],
      "source": [
        "BATCH_SIZE = 64\n",
        "LEARNING_RATE = 1e-3\n",
        "EPOCH = 100"
      ]
    },
    {
      "cell_type": "code",
      "execution_count": null,
      "metadata": {
        "id": "G5q7aHCZAZWw"
      },
      "outputs": [],
      "source": [
        "# Function to train the model\n",
        "def train_model(model, train_loader, criterion, optimizer, num_epochs=5):\n",
        "    model.to(device)\n",
        "    model.train()\n",
        "    for epoch in range(num_epochs):\n",
        "        running_loss = 0.0\n",
        "        correct_predictions = 0  # Initialize a counter for correct predictions\n",
        "        total_samples = 0  # Initialize a counter for total samples\n",
        "\n",
        "        for inputs, labels in train_loader:\n",
        "            inputs, labels = inputs.to(device), labels.to(device)\n",
        "            optimizer.zero_grad()\n",
        "            outputs = model(inputs)\n",
        "            loss = criterion(outputs, labels)\n",
        "            loss.backward()\n",
        "            optimizer.step()\n",
        "            running_loss += loss.item()\n",
        "\n",
        "             # Measure accuracy\n",
        "            _, predicted = torch.max(outputs, 1)\n",
        "            correct_predictions += (predicted == labels).sum().item()\n",
        "            total_samples += labels.size(0)\n",
        "\n",
        "        # Calculate accuracy for the current epoch\n",
        "        accuracy = 100.0 * correct_predictions / total_samples\n",
        "        print(f\"Epoch {epoch+1}/{num_epochs}, Loss: {running_loss/len(train_loader):.4f}, Accuracy: {accuracy}\")\n",
        "    print(\"Training complete!\")\n"
      ]
    },
    {
      "cell_type": "code",
      "execution_count": null,
      "metadata": {
        "colab": {
          "base_uri": "https://localhost:8080/"
        },
        "id": "k59nYWhsB1n0",
        "outputId": "93dec724-5608-475e-8ed3-03951dcd00a3"
      },
      "outputs": [
        {
          "output_type": "stream",
          "name": "stdout",
          "text": [
            "Files already downloaded and verified\n"
          ]
        }
      ],
      "source": [
        "trainset = torchvision.datasets.CIFAR10(root='./data', train=True,\n",
        "                                        download=True, transform=transforms)"
      ]
    },
    {
      "cell_type": "code",
      "execution_count": null,
      "metadata": {
        "colab": {
          "base_uri": "https://localhost:8080/"
        },
        "id": "h9uu5lfFF-FH",
        "outputId": "e43c83e2-a9e9-4672-9225-e93ec9267244"
      },
      "outputs": [
        {
          "output_type": "execute_result",
          "data": {
            "text/plain": [
              "['airplane',\n",
              " 'automobile',\n",
              " 'bird',\n",
              " 'cat',\n",
              " 'deer',\n",
              " 'dog',\n",
              " 'frog',\n",
              " 'horse',\n",
              " 'ship',\n",
              " 'truck']"
            ]
          },
          "metadata": {},
          "execution_count": 7
        }
      ],
      "source": [
        "train_dataset.classes"
      ]
    },
    {
      "cell_type": "code",
      "execution_count": null,
      "metadata": {
        "id": "EUYLg9WRAdUp"
      },
      "outputs": [],
      "source": [
        "# Create the model, loss function, and optimizer\n",
        "model = SimpleCNN()\n",
        "criterion = nn.CrossEntropyLoss()\n",
        "optimizer = optim.SGD(model.parameters(), lr=LEARNING_RATE, momentum=0.9)"
      ]
    },
    {
      "cell_type": "markdown",
      "metadata": {
        "id": "u8Yh4J-wUR1W"
      },
      "source": [
        "Task 2: Measure performance difference training between GPU and CPU\n"
      ]
    },
    {
      "cell_type": "code",
      "execution_count": null,
      "metadata": {
        "colab": {
          "base_uri": "https://localhost:8080/"
        },
        "id": "teF6NB2dAeV-",
        "outputId": "791508bd-1ef4-4114-9350-de961e76263c"
      },
      "outputs": [
        {
          "output_type": "stream",
          "name": "stdout",
          "text": [
            "Epoch 1/100, Loss: 2.1429, Accuracy: 22.786\n",
            "Epoch 2/100, Loss: 1.7935, Accuracy: 36.67\n",
            "Epoch 3/100, Loss: 1.5738, Accuracy: 44.232\n",
            "Epoch 4/100, Loss: 1.4246, Accuracy: 49.256\n",
            "Epoch 5/100, Loss: 1.3336, Accuracy: 52.55\n",
            "Epoch 6/100, Loss: 1.2614, Accuracy: 55.08\n",
            "Epoch 7/100, Loss: 1.2029, Accuracy: 57.266\n",
            "Epoch 8/100, Loss: 1.1564, Accuracy: 59.03\n",
            "Epoch 9/100, Loss: 1.1097, Accuracy: 60.794\n",
            "Epoch 10/100, Loss: 1.0644, Accuracy: 62.658\n",
            "Epoch 11/100, Loss: 1.0255, Accuracy: 63.914\n",
            "Epoch 12/100, Loss: 0.9851, Accuracy: 65.554\n",
            "Epoch 13/100, Loss: 0.9480, Accuracy: 66.6\n",
            "Epoch 14/100, Loss: 0.9153, Accuracy: 67.962\n",
            "Epoch 15/100, Loss: 0.8817, Accuracy: 69.08\n",
            "Epoch 16/100, Loss: 0.8528, Accuracy: 70.16\n",
            "Epoch 17/100, Loss: 0.8214, Accuracy: 71.35\n",
            "Epoch 18/100, Loss: 0.7918, Accuracy: 72.33\n",
            "Epoch 19/100, Loss: 0.7652, Accuracy: 73.22\n",
            "Epoch 20/100, Loss: 0.7404, Accuracy: 74.054\n",
            "Epoch 21/100, Loss: 0.7126, Accuracy: 75.344\n",
            "Epoch 22/100, Loss: 0.6851, Accuracy: 76.122\n",
            "Epoch 23/100, Loss: 0.6619, Accuracy: 76.988\n",
            "Epoch 24/100, Loss: 0.6352, Accuracy: 78.076\n",
            "Epoch 25/100, Loss: 0.6133, Accuracy: 78.706\n",
            "Epoch 26/100, Loss: 0.5929, Accuracy: 79.494\n",
            "Epoch 27/100, Loss: 0.5675, Accuracy: 80.33\n",
            "Epoch 28/100, Loss: 0.5395, Accuracy: 81.432\n",
            "Epoch 29/100, Loss: 0.5156, Accuracy: 82.27\n",
            "Epoch 30/100, Loss: 0.4943, Accuracy: 83.05\n",
            "Epoch 31/100, Loss: 0.4736, Accuracy: 83.562\n",
            "Epoch 32/100, Loss: 0.4441, Accuracy: 84.79\n",
            "Epoch 33/100, Loss: 0.4246, Accuracy: 85.444\n",
            "Epoch 34/100, Loss: 0.4053, Accuracy: 86.38\n",
            "Epoch 35/100, Loss: 0.3793, Accuracy: 87.016\n",
            "Epoch 36/100, Loss: 0.3595, Accuracy: 87.628\n",
            "Epoch 37/100, Loss: 0.3387, Accuracy: 88.566\n",
            "Epoch 38/100, Loss: 0.3186, Accuracy: 89.346\n",
            "Epoch 39/100, Loss: 0.2892, Accuracy: 90.438\n",
            "Epoch 40/100, Loss: 0.2740, Accuracy: 90.942\n",
            "Epoch 41/100, Loss: 0.2537, Accuracy: 91.652\n",
            "Epoch 42/100, Loss: 0.2353, Accuracy: 92.386\n",
            "Epoch 43/100, Loss: 0.2171, Accuracy: 92.968\n",
            "Epoch 44/100, Loss: 0.1934, Accuracy: 93.966\n",
            "Epoch 45/100, Loss: 0.1851, Accuracy: 94.164\n",
            "Epoch 46/100, Loss: 0.1640, Accuracy: 95.016\n",
            "Epoch 47/100, Loss: 0.1499, Accuracy: 95.576\n",
            "Epoch 48/100, Loss: 0.1368, Accuracy: 95.91\n",
            "Epoch 49/100, Loss: 0.1234, Accuracy: 96.372\n",
            "Epoch 50/100, Loss: 0.1089, Accuracy: 96.96\n",
            "Epoch 51/100, Loss: 0.0913, Accuracy: 97.67\n",
            "Epoch 52/100, Loss: 0.0779, Accuracy: 98.098\n",
            "Epoch 53/100, Loss: 0.0678, Accuracy: 98.524\n",
            "Epoch 54/100, Loss: 0.0617, Accuracy: 98.694\n",
            "Epoch 55/100, Loss: 0.0540, Accuracy: 98.948\n",
            "Epoch 56/100, Loss: 0.0437, Accuracy: 99.25\n",
            "Epoch 57/100, Loss: 0.0333, Accuracy: 99.618\n",
            "Epoch 58/100, Loss: 0.0259, Accuracy: 99.782\n",
            "Epoch 59/100, Loss: 0.0215, Accuracy: 99.866\n",
            "Epoch 60/100, Loss: 0.0185, Accuracy: 99.896\n",
            "Epoch 61/100, Loss: 0.0152, Accuracy: 99.946\n",
            "Epoch 62/100, Loss: 0.0128, Accuracy: 99.978\n",
            "Epoch 63/100, Loss: 0.0109, Accuracy: 99.986\n",
            "Epoch 64/100, Loss: 0.0097, Accuracy: 99.994\n",
            "Epoch 65/100, Loss: 0.0086, Accuracy: 99.998\n",
            "Epoch 66/100, Loss: 0.0079, Accuracy: 99.994\n",
            "Epoch 67/100, Loss: 0.0072, Accuracy: 99.998\n",
            "Epoch 68/100, Loss: 0.0069, Accuracy: 99.992\n",
            "Epoch 69/100, Loss: 0.0062, Accuracy: 99.996\n",
            "Epoch 70/100, Loss: 0.0057, Accuracy: 100.0\n",
            "Epoch 71/100, Loss: 0.0053, Accuracy: 100.0\n",
            "Epoch 72/100, Loss: 0.0050, Accuracy: 100.0\n",
            "Epoch 73/100, Loss: 0.0047, Accuracy: 100.0\n",
            "Epoch 74/100, Loss: 0.0045, Accuracy: 99.998\n",
            "Epoch 75/100, Loss: 0.0042, Accuracy: 100.0\n",
            "Epoch 76/100, Loss: 0.0041, Accuracy: 99.996\n",
            "Epoch 77/100, Loss: 0.0038, Accuracy: 99.996\n",
            "Epoch 78/100, Loss: 0.0036, Accuracy: 100.0\n",
            "Epoch 79/100, Loss: 0.0034, Accuracy: 100.0\n",
            "Epoch 80/100, Loss: 0.0033, Accuracy: 100.0\n",
            "Epoch 81/100, Loss: 0.0031, Accuracy: 100.0\n",
            "Epoch 82/100, Loss: 0.0030, Accuracy: 100.0\n",
            "Epoch 83/100, Loss: 0.0029, Accuracy: 100.0\n",
            "Epoch 84/100, Loss: 0.0028, Accuracy: 100.0\n",
            "Epoch 85/100, Loss: 0.0027, Accuracy: 100.0\n",
            "Epoch 86/100, Loss: 0.0026, Accuracy: 100.0\n",
            "Epoch 87/100, Loss: 0.0025, Accuracy: 100.0\n",
            "Epoch 88/100, Loss: 0.0024, Accuracy: 100.0\n",
            "Epoch 89/100, Loss: 0.0023, Accuracy: 100.0\n",
            "Epoch 90/100, Loss: 0.0023, Accuracy: 100.0\n",
            "Epoch 91/100, Loss: 0.0022, Accuracy: 100.0\n",
            "Epoch 92/100, Loss: 0.0021, Accuracy: 100.0\n",
            "Epoch 93/100, Loss: 0.0021, Accuracy: 100.0\n",
            "Epoch 94/100, Loss: 0.0020, Accuracy: 100.0\n",
            "Epoch 95/100, Loss: 0.0019, Accuracy: 100.0\n",
            "Epoch 96/100, Loss: 0.0019, Accuracy: 100.0\n",
            "Epoch 97/100, Loss: 0.0018, Accuracy: 100.0\n",
            "Epoch 98/100, Loss: 0.0018, Accuracy: 100.0\n",
            "Epoch 99/100, Loss: 0.0017, Accuracy: 100.0\n",
            "Epoch 100/100, Loss: 0.0017, Accuracy: 100.0\n",
            "Training complete!\n"
          ]
        }
      ],
      "source": [
        "# Train the model\n",
        "import torch\n",
        "import torch.nn as nn\n",
        "import torch.optim as optim\n",
        "model = SimpleCNN()\n",
        "criterion = nn.CrossEntropyLoss()\n",
        "optimizer = optim.SGD(model.parameters(), lr=LEARNING_RATE, momentum=0.9)\n",
        "EPOCHS = 100\n",
        "train_model(model, train_loader, criterion, optimizer, num_epochs=EPOCHS)\n",
        "\n"
      ]
    },
    {
      "cell_type": "markdown",
      "metadata": {
        "id": "IyN4gk65UUAl"
      },
      "source": [
        "Report your findings on:\n",
        "*   What were the key differences you observed in the training speed between the GPU and CPU?\n",
        "*   Were there any challenges or limitations you encountered while using the GPU for training?\n",
        "*   Did you notice any impact on the final model's performance (accuracy, loss) when trained on the GPU versus the CPU?"
      ]
    },
    {
      "cell_type": "markdown",
      "metadata": {
        "id": "-dRn_1s3WuWH"
      },
      "source": [
        "Hyperparameters used for the model training:\n",
        "\n",
        "Batch Size: 64\n",
        "\n",
        "Learning rate: 1e-3\n",
        "\n",
        "Epoch: 100\n",
        "\n",
        "\n",
        "Observations:\n",
        "\n",
        "There is a significant difference in training speed between using the CPU and the GPU. Using the CPU to train the model takes approximately 1hr 13m 30s which is about 4410s. The average training speed is 44.1s per epoch. Meanwhile, using the GPU to train the model yields a far shorter amount of time taken to complete which in this case is only 24m 4s or about 1444s. The average training speed per epoch is noticably shorter as well at about 14.4s per epoch.\n",
        "\n",
        "There are no considerable challenges observed during the training of the model. On the other hand, using the GPU to train the model returns similar values to using the CPU, however, it is much faster.\n",
        "\n",
        "The model's performance is not significantly impacted by the training medium. There are recorded fluctuations in both loss and accuracy when training with different mediums however, the fluctuations are not so great to impact the effectiveness of the model.\n"
      ]
    },
    {
      "cell_type": "markdown",
      "metadata": {
        "id": "EsInMplEVyCK"
      },
      "source": [
        "Task 3: Visualize Loss and Accuracy\n"
      ]
    },
    {
      "cell_type": "code",
      "execution_count": 1,
      "metadata": {
        "colab": {
          "base_uri": "https://localhost:8080/",
          "height": 470
        },
        "id": "jGiiegGeVYEn",
        "outputId": "5b671849-a5f7-468c-a249-ed79f191bc77"
      },
      "outputs": [
        {
          "output_type": "execute_result",
          "data": {
            "text/plain": [
              "Text(0.5, 1.0, 'Accuracy')"
            ]
          },
          "metadata": {},
          "execution_count": 1
        },
        {
          "output_type": "display_data",
          "data": {
            "text/plain": [
              "<Figure size 640x480 with 2 Axes>"
            ],
            "image/png": "[encoded data removed]"
          },
          "metadata": {}
        }
      ],
      "source": [
        "#TODO:\n",
        "#Your plots goes here\n",
        "import matplotlib.pyplot as plt\n",
        "figure, axis = plt.subplots(1,2)\n",
        "\n",
        "# Epoch\n",
        "x = range(0,100)\n",
        "\n",
        "# Loss\n",
        "# y1 =    #take value for loss\n",
        "axis[0].set_title('Loss')\n",
        "# axis[0].plot(x,y1) #plot graph for loss\n",
        "\n",
        "# Accuracy\n",
        "# y2 =  #take value for accuracy\n",
        "axis[1].set_title('Accuracy')\n",
        "# axis[1].plot(x,y2) #plot graph for accuracy\n",
        "\n",
        "# x = Epoch [1-100]\n",
        "# y1 = Loss [2.5 - 0]\n",
        "# y2 = Accuracy [20 - 100]\n"
      ]
    },
    {
      "cell_type": "markdown",
      "metadata": {
        "id": "8zxt6eE_dkeV"
      },
      "source": [
        "Observations:"
      ]
    },
    {
      "cell_type": "markdown",
      "metadata": {
        "id": "WUNYsuwRX-VT"
      },
      "source": [
        "Task 4: Test your own Image \\\n",
        "You can use the same code from the tutorial and ensure your model is properly trained!\n",
        "\n"
      ]
    },
    {
      "cell_type": "code",
      "execution_count": 2,
      "metadata": {
        "id": "LN02H0eTYC68",
        "colab": {
          "base_uri": "https://localhost:8080/",
          "height": 251
        },
        "outputId": "82dccb9b-5008-40ac-89d6-46ddc62b70a5"
      },
      "outputs": [
        {
          "output_type": "error",
          "ename": "NameError",
          "evalue": "ignored",
          "traceback": [
            "\u001b[0;31m---------------------------------------------------------------------------\u001b[0m",
            "\u001b[0;31mNameError\u001b[0m                                 Traceback (most recent call last)",
            "\u001b[0;32m<ipython-input-2-a5f69d4b0f08>\u001b[0m in \u001b[0;36m<cell line: 1>\u001b[0;34m()\u001b[0m\n\u001b[0;32m----> 1\u001b[0;31m transform = transforms.Compose([\n\u001b[0m\u001b[1;32m      2\u001b[0m     \u001b[0mtransforms\u001b[0m\u001b[0;34m.\u001b[0m\u001b[0mResize\u001b[0m\u001b[0;34m(\u001b[0m\u001b[0;34m(\u001b[0m\u001b[0;36m28\u001b[0m\u001b[0;34m,\u001b[0m \u001b[0;36m28\u001b[0m\u001b[0;34m)\u001b[0m\u001b[0;34m)\u001b[0m\u001b[0;34m,\u001b[0m  \u001b[0;31m# Resize the image to match the model input size\u001b[0m\u001b[0;34m\u001b[0m\u001b[0;34m\u001b[0m\u001b[0m\n\u001b[1;32m      3\u001b[0m     \u001b[0mtransforms\u001b[0m\u001b[0;34m.\u001b[0m\u001b[0mToTensor\u001b[0m\u001b[0;34m(\u001b[0m\u001b[0;34m)\u001b[0m\u001b[0;34m,\u001b[0m  \u001b[0;31m# Convert the image to a tensor\u001b[0m\u001b[0;34m\u001b[0m\u001b[0;34m\u001b[0m\u001b[0m\n\u001b[1;32m      4\u001b[0m    \u001b[0mtransforms\u001b[0m\u001b[0;34m.\u001b[0m\u001b[0mNormalize\u001b[0m\u001b[0;34m(\u001b[0m\u001b[0;34m(\u001b[0m\u001b[0;36m0.5\u001b[0m\u001b[0;34m,\u001b[0m\u001b[0;34m)\u001b[0m\u001b[0;34m,\u001b[0m \u001b[0;34m(\u001b[0m\u001b[0;36m0.5\u001b[0m\u001b[0;34m,\u001b[0m\u001b[0;34m)\u001b[0m\u001b[0;34m)\u001b[0m\u001b[0;34m,\u001b[0m  \u001b[0;31m# Normalize the image\u001b[0m\u001b[0;34m\u001b[0m\u001b[0;34m\u001b[0m\u001b[0m\n\u001b[1;32m      5\u001b[0m ])\n",
            "\u001b[0;31mNameError\u001b[0m: name 'transforms' is not defined"
          ]
        }
      ],
      "source": [
        "transform = transforms.Compose([\n",
        "    transforms.Resize((28, 28)),  # Resize the image to match the model input size\n",
        "    transforms.ToTensor(),  # Convert the image to a tensor\n",
        "   transforms.Normalize((0.5,), (0.5,)),  # Normalize the image\n",
        "])\n",
        "\n",
        "# Function to preprocess and make predictions on the uploaded image\n",
        "def predict_uploaded_image(upload):\n",
        "    # Open the uploaded image\n",
        "    image = Image.open(upload).convert('RGB')\n",
        "    model.to(\"cpu\")  # Set the model to evaluation mode\n",
        "\n",
        "    # Preprocess the image\n",
        "    input_tensor = transform(image)\n",
        "    input_batch = input_tensor.unsqueeze(0)  # Add a batch dimension\n",
        "\n",
        "    # Make predictions using the model\n",
        "    with torch.no_grad():\n",
        "        output = model(input_batch)\n",
        "    _, predicted_idx = torch.max(output, 1)\n",
        "\n",
        "    print(f\"Predicted labels: {predicted_idx}\")\n"
      ]
    },
    {
      "cell_type": "code",
      "execution_count": null,
      "metadata": {
        "id": "zejpODAGC4DA"
      },
      "outputs": [],
      "source": [
        "# Upload an image for prediction\n",
        "uploaded = files.upload()\n",
        "\n",
        "# If an image is uploaded, call the prediction function\n",
        "if len(uploaded) > 0:\n",
        "    for file_name in uploaded.keys():\n",
        "        predict_uploaded_image(file_name)\n",
        "else:\n",
        "    print(\"No image uploaded.\")\n"
      ]
    }
  ],
  "metadata": {
    "colab": {
      "provenance": [],
      "gpuType": "T4",
      "include_colab_link": true
    },
    "kernelspec": {
      "display_name": "Python 3",
      "name": "python3"
    },
    "language_info": {
      "name": "python"
    },
    "accelerator": "GPU"
  },
  "nbformat": 4,
  "nbformat_minor": 0
}